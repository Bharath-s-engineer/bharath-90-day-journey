{
 "cells": [
  {
   "cell_type": "markdown",
   "id": "57408e69",
   "metadata": {},
   "source": [
    "# Variables and Datatypes"
   ]
  },
  {
   "cell_type": "code",
   "execution_count": 1,
   "id": "b9044a9e",
   "metadata": {},
   "outputs": [],
   "source": [
    "name = \"Bharath\"  # String\n",
    "age = 21          #int\n",
    "height = 5.10     #float\n",
    "is_active = True  #boolean"
   ]
  },
  {
   "cell_type": "markdown",
   "id": "31037a82",
   "metadata": {},
   "source": [
    "# Lists, Tuples, Sets, Dictionaries"
   ]
  },
  {
   "cell_type": "code",
   "execution_count": 2,
   "id": "928ec677",
   "metadata": {},
   "outputs": [],
   "source": [
    "numbers = [1,2,3,4,5,2]              #list\n",
    "coords = (2,4)                       #tuple\n",
    "unique_numbers = {1,2,3,4}           #set\n",
    "person = {\"name\":\"Bharath\", \"age\":21 #dictionary"
   ]
  },
  {
   "cell_type": "markdown",
   "id": "182cd69d",
   "metadata": {},
   "source": [
    "# Loops and Conditions"
   ]
  },
  {
   "cell_type": "code",
   "execution_count": 3,
   "id": "7f0613b4",
   "metadata": {},
   "outputs": [
    {
     "name": "stdout",
     "output_type": "stream",
     "text": [
      "0\n",
      "1\n",
      "2\n",
      "3\n",
      "4\n",
      "Normal\n"
     ]
    }
   ],
   "source": [
    "# for loop\n",
    "\n",
    "for i in range(5):\n",
    "    print(i)\n",
    "    \n",
    "# while loop\n",
    "i=0\n",
    "while(i<5):\n",
    "    i+=1\n",
    "\n",
    "# if/elif/else\n",
    "t=30\n",
    "if t<20:\n",
    "    print(\"Cold\")\n",
    "elif 20<t<35:\n",
    "    print(\"Normal\")\n",
    "else:\n",
    "    print(\"Hot\")"
   ]
  },
  {
   "cell_type": "markdown",
   "id": "58b24cb0",
   "metadata": {},
   "source": [
    "# Functions"
   ]
  },
  {
   "cell_type": "code",
   "execution_count": 4,
   "id": "0c689c49",
   "metadata": {},
   "outputs": [
    {
     "name": "stdout",
     "output_type": "stream",
     "text": [
      "3\n"
     ]
    }
   ],
   "source": [
    "def add(a,b):\n",
    "    return a+b\n",
    "print(add(1,2))"
   ]
  },
  {
   "cell_type": "markdown",
   "id": "0b7e6bc5",
   "metadata": {},
   "source": [
    "# Class"
   ]
  },
  {
   "cell_type": "code",
   "execution_count": 7,
   "id": "fed889f8",
   "metadata": {},
   "outputs": [
    {
     "name": "stdout",
     "output_type": "stream",
     "text": [
      "8\n"
     ]
    }
   ],
   "source": [
    "class linear_model:\n",
    "    def __init__(self, weight, bias):\n",
    "        self.weight = weight\n",
    "        self.bias = bias\n",
    "    \n",
    "    def predict(self,x):\n",
    "        return self.weight*x+self.bias\n",
    "    \n",
    "model = linear_model(2,2)\n",
    "print(model.predict(3))"
   ]
  },
  {
   "cell_type": "code",
   "execution_count": null,
   "id": "eae778d5",
   "metadata": {},
   "outputs": [],
   "source": []
  }
 ],
 "metadata": {
  "kernelspec": {
   "display_name": "Python 3 (ipykernel)",
   "language": "python",
   "name": "python3"
  },
  "language_info": {
   "codemirror_mode": {
    "name": "ipython",
    "version": 3
   },
   "file_extension": ".py",
   "mimetype": "text/x-python",
   "name": "python",
   "nbconvert_exporter": "python",
   "pygments_lexer": "ipython3",
   "version": "3.7.9"
  }
 },
 "nbformat": 4,
 "nbformat_minor": 5
}
