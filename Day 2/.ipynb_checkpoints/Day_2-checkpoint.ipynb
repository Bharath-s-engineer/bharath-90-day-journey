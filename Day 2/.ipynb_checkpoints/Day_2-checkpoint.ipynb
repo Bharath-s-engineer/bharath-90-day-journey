{
 "cells": [
  {
   "cell_type": "markdown",
   "id": "9e689bb0",
   "metadata": {},
   "source": [
    "# Numpy Arrays"
   ]
  },
  {
   "cell_type": "code",
   "execution_count": 3,
   "id": "602ea19f",
   "metadata": {},
   "outputs": [
    {
     "name": "stdout",
     "output_type": "stream",
     "text": [
      "[2 3 4 5 6]\n"
     ]
    }
   ],
   "source": [
    "import numpy as np\n",
    "\n",
    "x = [1,2,3,4,5]\n",
    "x_ar = np.array(x)\n",
    "\n",
    "# print(x+1) Error + results in concatenation\n",
    "print(x_ar+1)"
   ]
  },
  {
   "cell_type": "code",
   "execution_count": 7,
   "id": "ed8c17bc",
   "metadata": {},
   "outputs": [
    {
     "name": "stdout",
     "output_type": "stream",
     "text": [
      "(3, 3)\n",
      "2\n",
      "3\n",
      "[3 6 9]\n"
     ]
    }
   ],
   "source": [
    "# array attributes\n",
    "\n",
    "arr = np.array([[1,2,3],[4,5,6],[7,8,9]])\n",
    "\n",
    "print(arr.shape)  #shape\n",
    "print(arr.ndim)   #dimension\n",
    "print(arr[0,2])   #accessing through index\n",
    "print(arr[:,2])   #accessing through index"
   ]
  },
  {
   "cell_type": "markdown",
   "id": "fed5176a",
   "metadata": {},
   "source": [
    "# Vectorized Operations"
   ]
  },
  {
   "cell_type": "code",
   "execution_count": 13,
   "id": "65f71184",
   "metadata": {
    "scrolled": true
   },
   "outputs": [
    {
     "name": "stdout",
     "output_type": "stream",
     "text": [
      "[3 5 7]\n",
      "[ 2  6 12]\n",
      "2\n",
      "6\n",
      "12\n"
     ]
    }
   ],
   "source": [
    "a = np.array([1,2,3])\n",
    "b = np.array([2,3,4])\n",
    "\n",
    "print(a+b)\n",
    "print(a*b)\n",
    "\n",
    "for i,j in zip(a,b):\n",
    "    print(i*j)"
   ]
  },
  {
   "cell_type": "markdown",
   "id": "a6a88e9c",
   "metadata": {},
   "source": [
    "# Linear Algebra with Numpy"
   ]
  },
  {
   "cell_type": "code",
   "execution_count": 20,
   "id": "adc255d1",
   "metadata": {},
   "outputs": [
    {
     "name": "stdout",
     "output_type": "stream",
     "text": [
      "[17 28]\n",
      "[[1 2]\n",
      " [2 3]]\n",
      "[[-3.  2.]\n",
      " [ 2. -1.]]\n"
     ]
    }
   ],
   "source": [
    "a = np.array([[1,2],[2,3]])\n",
    "b = np.array([5,6])\n",
    "print(np.dot(a,b))\n",
    "print(a.T)\n",
    "print(np.linalg.inv(a))"
   ]
  },
  {
   "cell_type": "markdown",
   "id": "fce96fb7",
   "metadata": {},
   "source": [
    "# Boardcasting"
   ]
  },
  {
   "cell_type": "code",
   "execution_count": 21,
   "id": "9ac6c2f7",
   "metadata": {},
   "outputs": [
    {
     "name": "stdout",
     "output_type": "stream",
     "text": [
      "[[1.1 2.2 3.3]\n",
      " [4.1 5.2 6.3]]\n"
     ]
    }
   ],
   "source": [
    "X = np.array([[1,2,3],\n",
    "              [4,5,6]])\n",
    "w = np.array([0.1, 0.2, 0.3])\n",
    "\n",
    "print(X + w)  # adds w to each row of X"
   ]
  },
  {
   "cell_type": "markdown",
   "id": "536a1fe9",
   "metadata": {},
   "source": [
    "# Random Numbers "
   ]
  },
  {
   "cell_type": "code",
   "execution_count": 31,
   "id": "a46da4f5",
   "metadata": {},
   "outputs": [
    {
     "name": "stdout",
     "output_type": "stream",
     "text": [
      "[[5 4 1]\n",
      " [7 5 1]\n",
      " [4 0 9]]\n"
     ]
    }
   ],
   "source": [
    "# np.random.seed(42)          # reproducibility\n",
    "data = np.random.randint(0,10,(3,3))  # 3x3 array\n",
    "print(data)"
   ]
  },
  {
   "cell_type": "code",
   "execution_count": 33,
   "id": "d252c123",
   "metadata": {},
   "outputs": [
    {
     "name": "stdout",
     "output_type": "stream",
     "text": [
      "[20 30]\n"
     ]
    }
   ],
   "source": [
    "arr = np.array([10, 20, 30, 40])\n",
    "print(np.random.choice(arr, size=2, replace=False))  # pick 2 unique elements"
   ]
  },
  {
   "cell_type": "code",
   "execution_count": null,
   "id": "07800c23",
   "metadata": {},
   "outputs": [],
   "source": []
  },
  {
   "cell_type": "code",
   "execution_count": null,
   "id": "4335c10f",
   "metadata": {},
   "outputs": [],
   "source": []
  }
 ],
 "metadata": {
  "kernelspec": {
   "display_name": "Python 3 (ipykernel)",
   "language": "python",
   "name": "python3"
  },
  "language_info": {
   "codemirror_mode": {
    "name": "ipython",
    "version": 3
   },
   "file_extension": ".py",
   "mimetype": "text/x-python",
   "name": "python",
   "nbconvert_exporter": "python",
   "pygments_lexer": "ipython3",
   "version": "3.7.9"
  }
 },
 "nbformat": 4,
 "nbformat_minor": 5
}
