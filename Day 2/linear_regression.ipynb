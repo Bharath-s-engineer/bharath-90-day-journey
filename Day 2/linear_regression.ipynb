{
 "cells": [
  {
   "cell_type": "code",
   "execution_count": 12,
   "id": "8a7be002",
   "metadata": {},
   "outputs": [
    {
     "name": "stdout",
     "output_type": "stream",
     "text": [
      "[ 6. 10. 12.]\n"
     ]
    },
    {
     "data": {
      "text/plain": [
       "21.666666666666668"
      ]
     },
     "execution_count": 12,
     "metadata": {},
     "output_type": "execute_result"
    }
   ],
   "source": [
    "import numpy as np\n",
    "class linear_regression:\n",
    "    def __init__(self,weight,bias):\n",
    "        self.weight = weight\n",
    "        self.bias = bias\n",
    "        self.y_pred = np.array([])\n",
    "        \n",
    "    def predict(self,x):\n",
    "        for i in x:\n",
    "            r=self.weight*i+self.bias\n",
    "            self.y_pred=np.append(self.y_pred,r)\n",
    "        print(self.y_pred)\n",
    "            \n",
    "    def mse(self,y):\n",
    "        return np.mean((y - self.y_pred)**2)\n",
    "    \n",
    "model = linear_regression(2,2)\n",
    "model.predict([2,4,5])\n",
    "y = [4,5,6]\n",
    "model.mse(y)"
   ]
  },
  {
   "cell_type": "code",
   "execution_count": null,
   "id": "ad74a290",
   "metadata": {},
   "outputs": [],
   "source": []
  }
 ],
 "metadata": {
  "kernelspec": {
   "display_name": "Python 3 (ipykernel)",
   "language": "python",
   "name": "python3"
  },
  "language_info": {
   "codemirror_mode": {
    "name": "ipython",
    "version": 3
   },
   "file_extension": ".py",
   "mimetype": "text/x-python",
   "name": "python",
   "nbconvert_exporter": "python",
   "pygments_lexer": "ipython3",
   "version": "3.7.9"
  }
 },
 "nbformat": 4,
 "nbformat_minor": 5
}
